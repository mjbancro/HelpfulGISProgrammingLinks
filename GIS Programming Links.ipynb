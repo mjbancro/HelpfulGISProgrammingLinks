{
 "cells": [
  {
   "attachments": {},
   "cell_type": "markdown",
   "metadata": {},
   "source": [
    "# GIS Programming Learning Resources\n",
    "Miscellaneous helpful links related to GIS programming"
   ]
  },
  {
   "attachments": {},
   "cell_type": "markdown",
   "metadata": {},
   "source": [
    "## Roadmaps\n",
    "- [GIS Programming Roadmap](https://github.com/petedannemann/gis-programming-roadmap/blob/master/README.md)\n",
    "- [Python for GIS Progression Path - Github](https://github.com/AlexArcPy/python-for-gis-progression-path)\n",
    "- [Open-Source Web-GIS Development Roadmap (GIS Lounge)](https://www.gislounge.com/open-source-web-gis-development-roadmap/)"
   ]
  },
  {
   "attachments": {},
   "cell_type": "markdown",
   "metadata": {},
   "source": [
    "## Videos\n",
    "- [ArcGIS Pro Scripting with Python and Arcpy Youtube Playlist](https://www.youtube.com/playlist?list=PLO6KswO64zVt8YCuKIOdCsJvlUivXETGu)\n",
    "- [GIS and Python: Top Courses to Learn Geospatial Python](https://www.youtube.com/watch?v=eXYg1WC93do)\n",
    "- [Qiusheng Wu Youtube Channel](https://www.youtube.com/@giswqs/playlists)\n",
    "- [ArcGIS Runtime SDKs Youtube Playlist](https://www.youtube.com/playlist?list=PLGZUzt4E4O2JofoGZJbLaYcc9w7kGlKOg)\n",
    "- [ArcGIS Pro SDK Development - franchyze923](https://www.youtube.com/watch?v=70niqCcVAZM)\n",
    "- [Building you first mapping app with the ArcGIS Runtime SDK for Android](https://www.youtube.com/watch?v=6doy_-BKXvU)\n",
    "- [Introduction to Python in ArcGIS Pro](https://www.youtube.com/watch?v=QzkhXUU8VQQ)\n",
    "- [How to Learn Javascript in 2023 (From ZERO)](https://www.youtube.com/watch?v=quJzdnXuNDc)\n",
    "- [API vs. SDK: What's the difference?](https://www.youtube.com/watch?v=kG-fLp9BTRo)\n",
    "- [ArcGIS API for JavaScript Part 1: Our First Web Map](https://www.youtube.com/watch?v=-tsFnoKNtNc)\n",
    "- [Esri Developers Youtube Channel](https://www.youtube.com/channel/UCgCXcfk5uEraWkpE9wlRwgw/videos)\n",
    "- [Git, GitHub, & GitHub Desktop for beginners](https://www.youtube.com/watch?v=8Dd7KRpKeaE&t=35s)\n",
    "- [Learning GitHub Youtube Playlist](https://www.youtube.com/playlist?list=PL4Q4HssKcxYsTuqUUvEHJ8XxOVOHTSmle)\n",
    "- [Master Pandas-Datareader and GeoPandas: Tutorial on Real Example with World Bank Data on Inflation](https://www.youtube.com/watch?v=FjNEB-GgfZ0)\n",
    "- [Introduction to GIS Analysis with GeoPandas using Python](https://www.youtube.com/watch?v=slqZVgB8tIg)\n",
    "- [An Absolute Beginner's Guide to Python GeoPandas](https://www.youtube.com/watch?v=t7lliJXFt8w&t=2s)\n",
    "- [25 VS Code Productivity Tips and Speed Hacks](https://www.youtube.com/watch?v=ifTF3ags0XI)\n",
    "- [Create a portfolio in 1 minute using GitHub Pages](https://www.youtube.com/watch?v=gKnxPERj-Bw)\n",
    "- [How to Create & Host a Portfolio in 10 minutes with Github pages](https://www.youtube.com/watch?v=u-RLu_8kwA0)\n",
    "- [Building Your Professional GIS Portfolio](https://www.youtube.com/watch?v=wBP-s4fP5uQ)\n",
    "- [GIS Python Tutorial: Getting Started with ArcPy and VS Code](https://www.youtube.com/watch?v=6Y9hAB5yYWo)\n",
    "- [How I Would Learn GIS (If I Had To Start Over)](https://www.youtube.com/watch?v=n9dDsYLIx1c)\n",
    "- [Jupyter Notebook Complete Beginner Guide 2023](https://www.youtube.com/watch?v=5pf0_bpNbkw&t=1239s)"
   ]
  },
  {
   "attachments": {},
   "cell_type": "markdown",
   "metadata": {},
   "source": [
    "## Documentation and Tutorials\n",
    "- [PyQGIS Developer Cookbook](https://docs.qgis.org/testing/en/docs/pyqgis_developer_cookbook/)\n",
    "- [Github Cheatsheet](https://training.github.com/downloads/github-git-cheat-sheet.pdf)\n",
    "- [Jupyter Notebook Shortcuts](https://towardsdatascience.com/jypyter-notebook-shortcuts-bf0101a98330)\n",
    "- [Github \"Hello World\" Beginner Tutorial](https://docs.github.com/en/get-started/quickstart/hello-world)\n",
    "- [Markdown Extended Syntax](https://www.markdownguide.org/extended-syntax/)\n",
    "- [Using Python environments in VS Code](https://code.visualstudio.com/docs/python/environments)\n",
    "- [Spatial Node - GIS Portfolio Website](https://www.spatialnode.net/)\n",
    "- [Leafmap Documentation](https://leafmap.org/)\n",
    "- [The Art of Command Line](https://github.com/jlevy/the-art-of-command-line)\n",
    "- [Design Patterns for Humans](https://github.com/kamranahmedse/design-patterns-for-humans)\n",
    "### ArcGIS Resources\n",
    "- [ArcGIS Developers](https://developers.arcgis.com/)\n",
    "- [ArcGIS Developers Documentation](https://developers.arcgis.com/documentation/)\n",
    "- [ArcGIS Developers Resources and Support](https://developers.arcgis.com/support/)\n",
    "- [Esri Knowledge Base](https://support.esri.com/en/knowledge-base)\n",
    "- [ArcGIS Maps SDK for JavaScript](https://developers.arcgis.com/javascript/latest/)\n",
    "- [ArcGIS Maps SDK for .NET](https://developers.arcgis.com/net/)\n",
    "- [ArcGIS API for Python](https://developers.arcgis.com/python/)\n",
    "- [ArcGIS Developers - Data enrichment - Spatial analysis](https://developers.arcgis.com/documentation/mapping-apis-and-services/spatial-analysis/)\n",
    "- [ArcGIS Maps SDK for .NET - Open source toolkit](https://developers.arcgis.com/net/#open-source-toolkit)"
   ]
  },
  {
   "attachments": {},
   "cell_type": "markdown",
   "metadata": {},
   "source": [
    "## Free Data Sources\n",
    "- [Rtwilson - 500+ Sources of Free GIS Data](https://freegisdata.rtwilson.com/)\n",
    "- [Data.gov](https://catalog.data.gov/dataset)\n",
    "- [Registry of Open Data on AWS](https://registry.opendata.aws/)\n",
    "- [Everything by Zipcode Database](https://www.everythingbyzipcode.com/product/free-zip-code-database-lookup-file)\n",
    "- [Copernicus Open Access Hub](https://scihub.copernicus.eu/dhus/#/home)\n",
    "- [Global Map data archives](https://globalmaps.github.io/)\n",
    "- [OpenTopography High-Resolution Topography Data and Tools](https://portal.opentopography.org/dataCatalog)\n",
    "- [IPUMS - TERRA (INTEGRATED POPULATION AND ENVIRONMENTAL DATA)](https://terra.ipums.org/)\n",
    "- [NASA Socioeconomic Data and Applications Center (sedac)](https://sedac.ciesin.columbia.edu/data/sets/browse)\n",
    "- [Natural Earth](https://www.naturalearthdata.com/)\n",
    "- [USGS 3DEP LidarExplorer](https://apps.nationalmap.gov/lidar-explorer/#/)\n",
    "- [Equator Studios Data Downloa](https://maps.equatorstudios.com/)"
   ]
  },
  {
   "attachments": {},
   "cell_type": "markdown",
   "metadata": {},
   "source": [
    "## Open Courses\n",
    "- [Esri Web Course - Python for Everyone](https://www.esri.com/training/catalog/57630436851d31e02a43f13c/python-for-everyone/)\n",
    "- [Esri Training Video - Arcpy: An Introduction](https://www.esri.com/training/catalog/60109e2a8106ed0454f90b54/arcpy%3A-an-introduction/)\n",
    "- [Esri Training Video - ArcGIS: Python Overview](https://www.esri.com/training/catalog/61786f687f30895ce2dc66ee/arcgis-python-overview/)\n",
    "- [Penn State - GEOG 485: GIS Programming and Software Development](https://www.e-education.psu.edu/geog485/node/91)\n",
    "- [Penn State - GEOG 489 - Advanced Python Programming for GIS](https://www.e-education.psu.edu/geog489/home.html)\n",
    "- [Penn State - GEOG 863: Web Application Development for Geospatial Professionals](https://www.e-education.psu.edu/geog863/node/1405)\n",
    "- [University of Helsinki - Geo-Python](https://geo-python-site.readthedocs.io/en/latest/)\n",
    "- [University of Helsinki - Automating GIS Processes](https://autogis-site.readthedocs.io/en/latest/)"
   ]
  },
  {
   "attachments": {},
   "cell_type": "markdown",
   "metadata": {},
   "source": [
    "## Articles\n",
    "- [Finding Inspiration for GIS Project Ideas that Boost Your Portfolio](https://mapscaping.com/gis-project-ideas/)\n",
    "- [Python Libraries/Frameworks for Map Visualization (from small to large scale data)](https://www.kaggle.com/discussions/general/331616)\n",
    "- [Mapping 10,000 points with ggplot2](https://geohaff.com/post/mapping-points-with-ggplot2/)\n",
    "- [Google Earth Engine (GEE) as a Publicly Accessible Catalog of Large Geospatial Data](https://medium.com/@pechnikov/google-earth-engine-gee-as-a-publicly-accessible-catalog-of-large-geospatial-data-97453fbb46f5)\n",
    "- [Mapping out the devastating earthquakes occurred on February 6th 2023 in Turkey](https://medium.com/@mecoskun/mapping-out-the-devastating-earthquakes-occurred-on-february-6th-2023-in-turkey-ebdda414e7a7)\n",
    "- [Visualize Map Using Folium and Python](https://medium.com/@bextla20/visualize-map-using-folium-and-python-ebc454e10c75)\n",
    "- [Your first automated workflow with ArcPy (part 1)](https://medium.com/@thiago.aguas/your-first-automated-workflow-with-arcpy-part-1-9dd87c81de50)\n",
    "- [Which US states are horror films mostly set in? Answering with Python](https://medium.com/@ben.nour_68691/which-us-states-are-horror-films-mostly-set-in-e8f2d4566b62)\n",
    "- [An Easy Way to Work and Visualize Lidar Data in Python(Medium Membership required)](https://medium.com/spatial-data-science/an-easy-way-to-work-and-visualize-lidar-data-in-python-eed0e028996c)\n",
    "- [What Exactly Is GitHub Anyway?](https://techcrunch.com/2012/07/14/what-exactly-is-github-anyway/)\n",
    "- [Map Visualization with Folium](https://medium.com/datasciencearth/map-visualization-with-folium-d1403771717)\n",
    "- [Avoid arcpy. Use geopandas.](https://geohaff.com/post/avoid-arcpy/)\n",
    "- [How to Create an Interactive Choropleth Map using Geopandas and Folium](https://medium.com/analytics-vidhya/how-to-create-interactive-choropleth-map-using-geopandas-and-folium-69e05ae1f931)\n",
    "- [Modify GeoJSON tooltip format when using Folium to produce a map](https://gis.stackexchange.com/questions/392531/modify-geojson-tooltip-format-when-using-folium-to-produce-a-map)\n",
    "- [A Python Tutorial on Geomapping using Folium and GeoPandas](https://medium.com/@jade.adams517/using-geopandas-and-folium-to-build-maps-on-python-c51c5aad5f44)"
   ]
  }
 ],
 "metadata": {
  "language_info": {
   "name": "python"
  },
  "orig_nbformat": 4
 },
 "nbformat": 4,
 "nbformat_minor": 2
}
